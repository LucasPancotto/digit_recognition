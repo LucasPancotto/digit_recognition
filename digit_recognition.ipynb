{
 "cells": [
  {
   "cell_type": "code",
   "execution_count": 2,
   "id": "66c47b29",
   "metadata": {},
   "outputs": [],
   "source": [
    "import pandas as pd\n",
    "import matplotlib as plt\n",
    "\n",
    "from matplotlib.pyplot import imshow\n",
    "\n",
    "import numpy as np"
   ]
  },
  {
   "cell_type": "code",
   "execution_count": 3,
   "id": "919a2569",
   "metadata": {},
   "outputs": [
    {
     "data": {
      "text/html": [
       "<div>\n",
       "<style scoped>\n",
       "    .dataframe tbody tr th:only-of-type {\n",
       "        vertical-align: middle;\n",
       "    }\n",
       "\n",
       "    .dataframe tbody tr th {\n",
       "        vertical-align: top;\n",
       "    }\n",
       "\n",
       "    .dataframe thead th {\n",
       "        text-align: right;\n",
       "    }\n",
       "</style>\n",
       "<table border=\"1\" class=\"dataframe\">\n",
       "  <thead>\n",
       "    <tr style=\"text-align: right;\">\n",
       "      <th></th>\n",
       "      <th>label</th>\n",
       "      <th>pixel0</th>\n",
       "      <th>pixel1</th>\n",
       "      <th>pixel2</th>\n",
       "      <th>pixel3</th>\n",
       "      <th>pixel4</th>\n",
       "      <th>pixel5</th>\n",
       "      <th>pixel6</th>\n",
       "      <th>pixel7</th>\n",
       "      <th>pixel8</th>\n",
       "      <th>...</th>\n",
       "      <th>pixel774</th>\n",
       "      <th>pixel775</th>\n",
       "      <th>pixel776</th>\n",
       "      <th>pixel777</th>\n",
       "      <th>pixel778</th>\n",
       "      <th>pixel779</th>\n",
       "      <th>pixel780</th>\n",
       "      <th>pixel781</th>\n",
       "      <th>pixel782</th>\n",
       "      <th>pixel783</th>\n",
       "    </tr>\n",
       "  </thead>\n",
       "  <tbody>\n",
       "    <tr>\n",
       "      <th>0</th>\n",
       "      <td>1</td>\n",
       "      <td>0</td>\n",
       "      <td>0</td>\n",
       "      <td>0</td>\n",
       "      <td>0</td>\n",
       "      <td>0</td>\n",
       "      <td>0</td>\n",
       "      <td>0</td>\n",
       "      <td>0</td>\n",
       "      <td>0</td>\n",
       "      <td>...</td>\n",
       "      <td>0</td>\n",
       "      <td>0</td>\n",
       "      <td>0</td>\n",
       "      <td>0</td>\n",
       "      <td>0</td>\n",
       "      <td>0</td>\n",
       "      <td>0</td>\n",
       "      <td>0</td>\n",
       "      <td>0</td>\n",
       "      <td>0</td>\n",
       "    </tr>\n",
       "    <tr>\n",
       "      <th>1</th>\n",
       "      <td>0</td>\n",
       "      <td>0</td>\n",
       "      <td>0</td>\n",
       "      <td>0</td>\n",
       "      <td>0</td>\n",
       "      <td>0</td>\n",
       "      <td>0</td>\n",
       "      <td>0</td>\n",
       "      <td>0</td>\n",
       "      <td>0</td>\n",
       "      <td>...</td>\n",
       "      <td>0</td>\n",
       "      <td>0</td>\n",
       "      <td>0</td>\n",
       "      <td>0</td>\n",
       "      <td>0</td>\n",
       "      <td>0</td>\n",
       "      <td>0</td>\n",
       "      <td>0</td>\n",
       "      <td>0</td>\n",
       "      <td>0</td>\n",
       "    </tr>\n",
       "    <tr>\n",
       "      <th>2</th>\n",
       "      <td>1</td>\n",
       "      <td>0</td>\n",
       "      <td>0</td>\n",
       "      <td>0</td>\n",
       "      <td>0</td>\n",
       "      <td>0</td>\n",
       "      <td>0</td>\n",
       "      <td>0</td>\n",
       "      <td>0</td>\n",
       "      <td>0</td>\n",
       "      <td>...</td>\n",
       "      <td>0</td>\n",
       "      <td>0</td>\n",
       "      <td>0</td>\n",
       "      <td>0</td>\n",
       "      <td>0</td>\n",
       "      <td>0</td>\n",
       "      <td>0</td>\n",
       "      <td>0</td>\n",
       "      <td>0</td>\n",
       "      <td>0</td>\n",
       "    </tr>\n",
       "    <tr>\n",
       "      <th>3</th>\n",
       "      <td>4</td>\n",
       "      <td>0</td>\n",
       "      <td>0</td>\n",
       "      <td>0</td>\n",
       "      <td>0</td>\n",
       "      <td>0</td>\n",
       "      <td>0</td>\n",
       "      <td>0</td>\n",
       "      <td>0</td>\n",
       "      <td>0</td>\n",
       "      <td>...</td>\n",
       "      <td>0</td>\n",
       "      <td>0</td>\n",
       "      <td>0</td>\n",
       "      <td>0</td>\n",
       "      <td>0</td>\n",
       "      <td>0</td>\n",
       "      <td>0</td>\n",
       "      <td>0</td>\n",
       "      <td>0</td>\n",
       "      <td>0</td>\n",
       "    </tr>\n",
       "    <tr>\n",
       "      <th>4</th>\n",
       "      <td>0</td>\n",
       "      <td>0</td>\n",
       "      <td>0</td>\n",
       "      <td>0</td>\n",
       "      <td>0</td>\n",
       "      <td>0</td>\n",
       "      <td>0</td>\n",
       "      <td>0</td>\n",
       "      <td>0</td>\n",
       "      <td>0</td>\n",
       "      <td>...</td>\n",
       "      <td>0</td>\n",
       "      <td>0</td>\n",
       "      <td>0</td>\n",
       "      <td>0</td>\n",
       "      <td>0</td>\n",
       "      <td>0</td>\n",
       "      <td>0</td>\n",
       "      <td>0</td>\n",
       "      <td>0</td>\n",
       "      <td>0</td>\n",
       "    </tr>\n",
       "  </tbody>\n",
       "</table>\n",
       "<p>5 rows × 785 columns</p>\n",
       "</div>"
      ],
      "text/plain": [
       "   label  pixel0  pixel1  pixel2  pixel3  pixel4  pixel5  pixel6  pixel7  \\\n",
       "0      1       0       0       0       0       0       0       0       0   \n",
       "1      0       0       0       0       0       0       0       0       0   \n",
       "2      1       0       0       0       0       0       0       0       0   \n",
       "3      4       0       0       0       0       0       0       0       0   \n",
       "4      0       0       0       0       0       0       0       0       0   \n",
       "\n",
       "   pixel8  ...  pixel774  pixel775  pixel776  pixel777  pixel778  pixel779  \\\n",
       "0       0  ...         0         0         0         0         0         0   \n",
       "1       0  ...         0         0         0         0         0         0   \n",
       "2       0  ...         0         0         0         0         0         0   \n",
       "3       0  ...         0         0         0         0         0         0   \n",
       "4       0  ...         0         0         0         0         0         0   \n",
       "\n",
       "   pixel780  pixel781  pixel782  pixel783  \n",
       "0         0         0         0         0  \n",
       "1         0         0         0         0  \n",
       "2         0         0         0         0  \n",
       "3         0         0         0         0  \n",
       "4         0         0         0         0  \n",
       "\n",
       "[5 rows x 785 columns]"
      ]
     },
     "execution_count": 3,
     "metadata": {},
     "output_type": "execute_result"
    }
   ],
   "source": [
    "df = pd.read_csv('train.csv')\n",
    "df.head()"
   ]
  },
  {
   "cell_type": "code",
   "execution_count": 4,
   "id": "53d70d7b",
   "metadata": {},
   "outputs": [
    {
     "data": {
      "text/plain": [
       "42000"
      ]
     },
     "execution_count": 4,
     "metadata": {},
     "output_type": "execute_result"
    }
   ],
   "source": [
    "len(df)"
   ]
  },
  {
   "cell_type": "markdown",
   "id": "73458ccf",
   "metadata": {},
   "source": [
    "# me armo las matrices de cada digito"
   ]
  },
  {
   "cell_type": "code",
   "execution_count": 5,
   "id": "984b4e82",
   "metadata": {},
   "outputs": [
    {
     "data": {
      "text/plain": [
       "<matplotlib.image.AxesImage at 0x7f947b9444f0>"
      ]
     },
     "execution_count": 5,
     "metadata": {},
     "output_type": "execute_result"
    },
    {
     "data": {
      "image/png": "[encoded data removed]",
      "text/plain": [
       "<Figure size 432x288 with 1 Axes>"
      ]
     },
     "metadata": {
      "needs_background": "light"
     },
     "output_type": "display_data"
    }
   ],
   "source": [
    "#para la primera fila\n",
    "\n",
    "d1 = df.loc[67,'pixel0':].values.reshape(28,28)\n",
    "imshow(d1)\n"
   ]
  },
  {
   "cell_type": "code",
   "execution_count": 6,
   "id": "067499dc",
   "metadata": {},
   "outputs": [],
   "source": [
    "#defino una funcion para cada fila\n",
    "def get_m(row):\n",
    "    return row.values[1:].reshape(28,28)"
   ]
  },
  {
   "cell_type": "code",
   "execution_count": 7,
   "id": "f72ffe6e",
   "metadata": {},
   "outputs": [
    {
     "data": {
      "text/plain": [
       "<matplotlib.image.AxesImage at 0x7f947b723d30>"
      ]
     },
     "execution_count": 7,
     "metadata": {},
     "output_type": "execute_result"
    },
    {
     "data": {
      "image/png": "[encoded data removed]",
      "text/plain": [
       "<Figure size 432x288 with 1 Axes>"
      ]
     },
     "metadata": {
      "needs_background": "light"
     },
     "output_type": "display_data"
    }
   ],
   "source": [
    "imshow(get_m(df.loc[0]))"
   ]
  },
  {
   "cell_type": "code",
   "execution_count": 8,
   "id": "a8fffe70",
   "metadata": {},
   "outputs": [],
   "source": [
    "#consigo una matriz por digito\n",
    "df['m'] = df.apply(get_m, axis=1)"
   ]
  },
  {
   "cell_type": "code",
   "execution_count": 9,
   "id": "a5cb2784",
   "metadata": {},
   "outputs": [
    {
     "data": {
      "text/plain": [
       "<matplotlib.image.AxesImage at 0x7f947b1eadf0>"
      ]
     },
     "execution_count": 9,
     "metadata": {},
     "output_type": "execute_result"
    },
    {
     "data": {
      "image/png": "[encoded data removed]",
      "text/plain": [
       "<Figure size 432x288 with 1 Axes>"
      ]
     },
     "metadata": {
      "needs_background": "light"
     },
     "output_type": "display_data"
    }
   ],
   "source": [
    "imshow(df.loc[34 , 'm'])"
   ]
  },
  {
   "cell_type": "code",
   "execution_count": 10,
   "id": "4868df08",
   "metadata": {},
   "outputs": [],
   "source": [
    "#me armo un dataframe de solo matrices con labels\n",
    "dm = df[['label' , 'm']]\n"
   ]
  },
  {
   "cell_type": "markdown",
   "id": "9feb2253",
   "metadata": {},
   "source": [
    "# train\n",
    "\n",
    "classifiers:\n",
    "\n",
    "LogisticRegressor() # Logit regression\n",
    "\n",
    "KNeighborsClassifier() # KNN\n",
    "\n",
    "SVC() # Support Vector Classifier"
   ]
  },
  {
   "cell_type": "code",
   "execution_count": 11,
   "id": "e710bcac",
   "metadata": {},
   "outputs": [
    {
     "data": {
      "text/plain": [
       "(42000, 784)"
      ]
     },
     "execution_count": 11,
     "metadata": {},
     "output_type": "execute_result"
    }
   ],
   "source": [
    "#(n_samples, n_features)\n",
    "\n",
    "#features son todos los pixeles\n",
    "X = df.loc[: , 'pixel0':'pixel783']\n",
    "X = np.array(X)\n",
    "X.shape"
   ]
  },
  {
   "cell_type": "code",
   "execution_count": 12,
   "id": "c4a9680e",
   "metadata": {},
   "outputs": [
    {
     "data": {
      "text/plain": [
       "(42000,)"
      ]
     },
     "execution_count": 12,
     "metadata": {},
     "output_type": "execute_result"
    }
   ],
   "source": [
    "#target son los labels posibles\n",
    "\n",
    "y = df.label\n",
    "y =y.values\n",
    "y.shape"
   ]
  },
  {
   "cell_type": "code",
   "execution_count": 13,
   "id": "50f7c774",
   "metadata": {},
   "outputs": [],
   "source": [
    "#train test split \n",
    "from sklearn.model_selection import train_test_split\n"
   ]
  },
  {
   "cell_type": "code",
   "execution_count": 14,
   "id": "a7b60001",
   "metadata": {},
   "outputs": [],
   "source": [
    "X_train, X_test, y_train, y_test = train_test_split(X , y, test_size=0.30 , random_state=42)"
   ]
  },
  {
   "cell_type": "markdown",
   "id": "ae867a1d",
   "metadata": {},
   "source": [
    "## kn classifier"
   ]
  },
  {
   "cell_type": "code",
   "execution_count": 1,
   "id": "75afdf3d",
   "metadata": {},
   "outputs": [],
   "source": [
    "from sklearn.neighbors import KNeighborsClassifier"
   ]
  },
  {
   "cell_type": "code",
   "execution_count": 18,
   "id": "b7e69a60",
   "metadata": {},
   "outputs": [],
   "source": [
    "knc = KNeighborsClassifier()"
   ]
  },
  {
   "cell_type": "code",
   "execution_count": 19,
   "id": "6cc88bf6",
   "metadata": {},
   "outputs": [
    {
     "data": {
      "text/plain": [
       "KNeighborsClassifier()"
      ]
     },
     "execution_count": 19,
     "metadata": {},
     "output_type": "execute_result"
    }
   ],
   "source": [
    "knc.fit(X_train , y_train)"
   ]
  },
  {
   "cell_type": "code",
   "execution_count": 20,
   "id": "352eef79",
   "metadata": {},
   "outputs": [
    {
     "data": {
      "text/plain": [
       "0.9655555555555555"
      ]
     },
     "execution_count": 20,
     "metadata": {},
     "output_type": "execute_result"
    }
   ],
   "source": [
    "knc.score(X_test , y_test)"
   ]
  },
  {
   "cell_type": "code",
   "execution_count": 22,
   "id": "4022aafe",
   "metadata": {},
   "outputs": [
    {
     "name": "stdout",
     "output_type": "stream",
     "text": [
      "prediction:  [5]\n",
      "real digit:  5\n"
     ]
    },
    {
     "data": {
      "text/plain": [
       "<matplotlib.image.AxesImage at 0x7f24e00a4d90>"
      ]
     },
     "execution_count": 22,
     "metadata": {},
     "output_type": "execute_result"
    },
    {
     "data": {
      "image/png": "[encoded data removed]",
      "text/plain": [
       "<Figure size 432x288 with 1 Axes>"
      ]
     },
     "metadata": {
      "needs_background": "light"
     },
     "output_type": "display_data"
    }
   ],
   "source": [
    "digit = 450\n",
    "\n",
    "print('prediction: ' , knc.predict(X_test[digit].reshape(1,-1)))\n",
    "print('real digit: ' , y_test[digit])\n",
    "\n",
    "imshow(X_test[digit].reshape(28,28))"
   ]
  },
  {
   "cell_type": "code",
   "execution_count": 31,
   "id": "e5169af9",
   "metadata": {},
   "outputs": [],
   "source": [
    "# save the model to disk\n",
    "#filename_c = 'knc.sav'\n",
    "#pickle.dump(knc, open(filename_c, 'wb'))"
   ]
  },
  {
   "cell_type": "markdown",
   "id": "f9a380b2",
   "metadata": {},
   "source": [
    "*KNN works well enough, lets do a gridsearch to find the best hyperparameters*"
   ]
  },
  {
   "cell_type": "markdown",
   "id": "05df4a82",
   "metadata": {},
   "source": [
    "### gridsearch for knn classifier"
   ]
  },
  {
   "cell_type": "code",
   "execution_count": 15,
   "id": "4363afd0",
   "metadata": {},
   "outputs": [],
   "source": [
    "from sklearn.model_selection import GridSearchCV\n"
   ]
  },
  {
   "cell_type": "code",
   "execution_count": 16,
   "id": "9c463ea2",
   "metadata": {},
   "outputs": [],
   "source": [
    "# Instanciate model\n",
    "model = KNeighborsClassifier()\n",
    "\n"
   ]
  },
  {
   "cell_type": "code",
   "execution_count": 17,
   "id": "18444d1a",
   "metadata": {},
   "outputs": [],
   "source": [
    "# Hyperparameter Grid\n",
    "grid = {'n_neighbors':[5 , 7 , 10 ,12,  15] ,\n",
    "        \n",
    "        'weights' : ['uniform' , 'distance'],\n",
    "        \n",
    "        'algorithm' : ['auto', 'ball_tree', 'kd_tree', 'brute' ] , \n",
    "        \n",
    "        \n",
    "    }\n",
    "\n"
   ]
  },
  {
   "cell_type": "code",
   "execution_count": 18,
   "id": "93521c5b",
   "metadata": {},
   "outputs": [
    {
     "name": "stdout",
     "output_type": "stream",
     "text": [
      "Fitting 3 folds for each of 40 candidates, totalling 120 fits\n",
      "[CV 1/3] END algorithm=auto, n_neighbors=5, weights=uniform;, score=0.960 total time=  34.4s\n",
      "[CV 2/3] END algorithm=auto, n_neighbors=5, weights=uniform;, score=0.959 total time=  21.8s\n",
      "[CV 3/3] END algorithm=auto, n_neighbors=5, weights=uniform;, score=0.963 total time=  20.8s\n",
      "[CV 1/3] END algorithm=auto, n_neighbors=5, weights=distance;, score=0.961 total time=  17.8s\n",
      "[CV 2/3] END algorithm=auto, n_neighbors=5, weights=distance;, score=0.961 total time=  18.7s\n",
      "[CV 3/3] END algorithm=auto, n_neighbors=5, weights=distance;, score=0.964 total time=  21.3s\n",
      "[CV 1/3] END algorithm=auto, n_neighbors=7, weights=uniform;, score=0.958 total time=  28.9s\n",
      "[CV 2/3] END algorithm=auto, n_neighbors=7, weights=uniform;, score=0.954 total time=  16.6s\n",
      "[CV 3/3] END algorithm=auto, n_neighbors=7, weights=uniform;, score=0.961 total time=  20.5s\n",
      "[CV 1/3] END algorithm=auto, n_neighbors=7, weights=distance;, score=0.960 total time=  22.4s\n",
      "[CV 2/3] END algorithm=auto, n_neighbors=7, weights=distance;, score=0.956 total time=  16.4s\n",
      "[CV 3/3] END algorithm=auto, n_neighbors=7, weights=distance;, score=0.963 total time=  16.9s\n",
      "[CV 1/3] END algorithm=auto, n_neighbors=10, weights=uniform;, score=0.954 total time=  16.2s\n",
      "[CV 2/3] END algorithm=auto, n_neighbors=10, weights=uniform;, score=0.953 total time=  20.1s\n",
      "[CV 3/3] END algorithm=auto, n_neighbors=10, weights=uniform;, score=0.957 total time=  23.0s\n",
      "[CV 1/3] END algorithm=auto, n_neighbors=10, weights=distance;, score=0.958 total time=  42.1s\n",
      "[CV 2/3] END algorithm=auto, n_neighbors=10, weights=distance;, score=0.956 total time=  24.3s\n",
      "[CV 3/3] END algorithm=auto, n_neighbors=10, weights=distance;, score=0.960 total time=  21.4s\n",
      "[CV 1/3] END algorithm=auto, n_neighbors=12, weights=uniform;, score=0.954 total time=  18.1s\n",
      "[CV 2/3] END algorithm=auto, n_neighbors=12, weights=uniform;, score=0.951 total time=  15.4s\n",
      "[CV 3/3] END algorithm=auto, n_neighbors=12, weights=uniform;, score=0.954 total time=  20.6s\n",
      "[CV 1/3] END algorithm=auto, n_neighbors=12, weights=distance;, score=0.956 total time=  25.4s\n",
      "[CV 2/3] END algorithm=auto, n_neighbors=12, weights=distance;, score=0.954 total time=  26.6s\n",
      "[CV 3/3] END algorithm=auto, n_neighbors=12, weights=distance;, score=0.959 total time=  17.6s\n",
      "[CV 1/3] END algorithm=auto, n_neighbors=15, weights=uniform;, score=0.950 total time=  19.4s\n",
      "[CV 2/3] END algorithm=auto, n_neighbors=15, weights=uniform;, score=0.948 total time=  17.1s\n",
      "[CV 3/3] END algorithm=auto, n_neighbors=15, weights=uniform;, score=0.952 total time=  23.6s\n",
      "[CV 1/3] END algorithm=auto, n_neighbors=15, weights=distance;, score=0.951 total time=  23.4s\n",
      "[CV 2/3] END algorithm=auto, n_neighbors=15, weights=distance;, score=0.950 total time=  18.1s\n",
      "[CV 3/3] END algorithm=auto, n_neighbors=15, weights=distance;, score=0.955 total time=  17.0s\n",
      "[CV 1/3] END algorithm=ball_tree, n_neighbors=5, weights=uniform;, score=0.960 total time= 3.5min\n",
      "[CV 2/3] END algorithm=ball_tree, n_neighbors=5, weights=uniform;, score=0.959 total time= 3.5min\n",
      "[CV 3/3] END algorithm=ball_tree, n_neighbors=5, weights=uniform;, score=0.963 total time= 3.3min\n",
      "[CV 1/3] END algorithm=ball_tree, n_neighbors=5, weights=distance;, score=0.961 total time= 3.6min\n",
      "[CV 2/3] END algorithm=ball_tree, n_neighbors=5, weights=distance;, score=0.961 total time= 4.1min\n",
      "[CV 3/3] END algorithm=ball_tree, n_neighbors=5, weights=distance;, score=0.964 total time= 3.4min\n",
      "[CV 1/3] END algorithm=ball_tree, n_neighbors=7, weights=uniform;, score=0.958 total time= 3.5min\n",
      "[CV 2/3] END algorithm=ball_tree, n_neighbors=7, weights=uniform;, score=0.954 total time= 3.4min\n",
      "[CV 3/3] END algorithm=ball_tree, n_neighbors=7, weights=uniform;, score=0.961 total time= 3.9min\n",
      "[CV 1/3] END algorithm=ball_tree, n_neighbors=7, weights=distance;, score=0.960 total time= 3.9min\n",
      "[CV 2/3] END algorithm=ball_tree, n_neighbors=7, weights=distance;, score=0.956 total time= 3.8min\n",
      "[CV 3/3] END algorithm=ball_tree, n_neighbors=7, weights=distance;, score=0.963 total time= 3.8min\n",
      "[CV 1/3] END algorithm=ball_tree, n_neighbors=10, weights=uniform;, score=0.954 total time= 3.8min\n",
      "[CV 2/3] END algorithm=ball_tree, n_neighbors=10, weights=uniform;, score=0.953 total time= 3.7min\n",
      "[CV 3/3] END algorithm=ball_tree, n_neighbors=10, weights=uniform;, score=0.957 total time= 3.9min\n",
      "[CV 1/3] END algorithm=ball_tree, n_neighbors=10, weights=distance;, score=0.958 total time= 3.9min\n",
      "[CV 2/3] END algorithm=ball_tree, n_neighbors=10, weights=distance;, score=0.956 total time= 3.8min\n",
      "[CV 3/3] END algorithm=ball_tree, n_neighbors=10, weights=distance;, score=0.960 total time= 3.8min\n",
      "[CV 1/3] END algorithm=ball_tree, n_neighbors=12, weights=uniform;, score=0.954 total time= 3.8min\n",
      "[CV 2/3] END algorithm=ball_tree, n_neighbors=12, weights=uniform;, score=0.951 total time= 3.8min\n",
      "[CV 3/3] END algorithm=ball_tree, n_neighbors=12, weights=uniform;, score=0.954 total time= 4.0min\n",
      "[CV 1/3] END algorithm=ball_tree, n_neighbors=12, weights=distance;, score=0.956 total time= 3.4min\n",
      "[CV 2/3] END algorithm=ball_tree, n_neighbors=12, weights=distance;, score=0.954 total time= 3.4min\n",
      "[CV 3/3] END algorithm=ball_tree, n_neighbors=12, weights=distance;, score=0.959 total time= 3.4min\n",
      "[CV 1/3] END algorithm=ball_tree, n_neighbors=15, weights=uniform;, score=0.950 total time= 3.4min\n",
      "[CV 2/3] END algorithm=ball_tree, n_neighbors=15, weights=uniform;, score=0.948 total time= 3.5min\n",
      "[CV 3/3] END algorithm=ball_tree, n_neighbors=15, weights=uniform;, score=0.952 total time= 3.4min\n",
      "[CV 1/3] END algorithm=ball_tree, n_neighbors=15, weights=distance;, score=0.951 total time= 3.4min\n",
      "[CV 2/3] END algorithm=ball_tree, n_neighbors=15, weights=distance;, score=0.950 total time= 3.5min\n",
      "[CV 3/3] END algorithm=ball_tree, n_neighbors=15, weights=distance;, score=0.955 total time= 3.4min\n",
      "[CV 1/3] END algorithm=kd_tree, n_neighbors=5, weights=uniform;, score=0.960 total time= 5.2min\n",
      "[CV 2/3] END algorithm=kd_tree, n_neighbors=5, weights=uniform;, score=0.959 total time= 5.9min\n",
      "[CV 3/3] END algorithm=kd_tree, n_neighbors=5, weights=uniform;, score=0.963 total time= 5.3min\n",
      "[CV 1/3] END algorithm=kd_tree, n_neighbors=5, weights=distance;, score=0.961 total time= 5.4min\n",
      "[CV 2/3] END algorithm=kd_tree, n_neighbors=5, weights=distance;, score=0.961 total time= 5.0min\n",
      "[CV 3/3] END algorithm=kd_tree, n_neighbors=5, weights=distance;, score=0.964 total time= 5.0min\n",
      "[CV 1/3] END algorithm=kd_tree, n_neighbors=7, weights=uniform;, score=0.958 total time= 5.0min\n",
      "[CV 2/3] END algorithm=kd_tree, n_neighbors=7, weights=uniform;, score=0.954 total time= 4.7min\n",
      "[CV 3/3] END algorithm=kd_tree, n_neighbors=7, weights=uniform;, score=0.961 total time= 8.9min\n",
      "[CV 1/3] END algorithm=kd_tree, n_neighbors=7, weights=distance;, score=0.960 total time= 4.6min\n",
      "[CV 2/3] END algorithm=kd_tree, n_neighbors=7, weights=distance;, score=0.956 total time= 4.8min\n",
      "[CV 3/3] END algorithm=kd_tree, n_neighbors=7, weights=distance;, score=0.963 total time= 4.7min\n",
      "[CV 1/3] END algorithm=kd_tree, n_neighbors=10, weights=uniform;, score=0.954 total time= 4.9min\n",
      "[CV 2/3] END algorithm=kd_tree, n_neighbors=10, weights=uniform;, score=0.953 total time= 4.8min\n",
      "[CV 3/3] END algorithm=kd_tree, n_neighbors=10, weights=uniform;, score=0.957 total time= 4.9min\n",
      "[CV 1/3] END algorithm=kd_tree, n_neighbors=10, weights=distance;, score=0.958 total time= 4.7min\n",
      "[CV 2/3] END algorithm=kd_tree, n_neighbors=10, weights=distance;, score=0.956 total time= 4.8min\n",
      "[CV 3/3] END algorithm=kd_tree, n_neighbors=10, weights=distance;, score=0.960 total time= 4.7min\n",
      "[CV 1/3] END algorithm=kd_tree, n_neighbors=12, weights=uniform;, score=0.954 total time= 4.8min\n",
      "[CV 2/3] END algorithm=kd_tree, n_neighbors=12, weights=uniform;, score=0.951 total time= 4.7min\n",
      "[CV 3/3] END algorithm=kd_tree, n_neighbors=12, weights=uniform;, score=0.954 total time= 4.8min\n",
      "[CV 1/3] END algorithm=kd_tree, n_neighbors=12, weights=distance;, score=0.956 total time= 4.7min\n",
      "[CV 2/3] END algorithm=kd_tree, n_neighbors=12, weights=distance;, score=0.954 total time= 4.8min\n",
      "[CV 3/3] END algorithm=kd_tree, n_neighbors=12, weights=distance;, score=0.959 total time= 4.7min\n",
      "[CV 1/3] END algorithm=kd_tree, n_neighbors=15, weights=uniform;, score=0.950 total time= 4.8min\n"
     ]
    },
    {
     "name": "stdout",
     "output_type": "stream",
     "text": [
      "[CV 2/3] END algorithm=kd_tree, n_neighbors=15, weights=uniform;, score=0.948 total time= 4.8min\n",
      "[CV 3/3] END algorithm=kd_tree, n_neighbors=15, weights=uniform;, score=0.952 total time= 4.8min\n",
      "[CV 1/3] END algorithm=kd_tree, n_neighbors=15, weights=distance;, score=0.951 total time= 5.7min\n",
      "[CV 2/3] END algorithm=kd_tree, n_neighbors=15, weights=distance;, score=0.950 total time= 4.8min\n",
      "[CV 3/3] END algorithm=kd_tree, n_neighbors=15, weights=distance;, score=0.955 total time= 4.7min\n",
      "[CV 1/3] END algorithm=brute, n_neighbors=5, weights=uniform;, score=0.960 total time= 1.4min\n",
      "[CV 2/3] END algorithm=brute, n_neighbors=5, weights=uniform;, score=0.959 total time=  17.9s\n",
      "[CV 3/3] END algorithm=brute, n_neighbors=5, weights=uniform;, score=0.963 total time=  17.0s\n",
      "[CV 1/3] END algorithm=brute, n_neighbors=5, weights=distance;, score=0.961 total time=  16.5s\n",
      "[CV 2/3] END algorithm=brute, n_neighbors=5, weights=distance;, score=0.961 total time=  15.9s\n",
      "[CV 3/3] END algorithm=brute, n_neighbors=5, weights=distance;, score=0.964 total time=  15.9s\n",
      "[CV 1/3] END algorithm=brute, n_neighbors=7, weights=uniform;, score=0.958 total time=  21.2s\n",
      "[CV 2/3] END algorithm=brute, n_neighbors=7, weights=uniform;, score=0.954 total time=  17.2s\n",
      "[CV 3/3] END algorithm=brute, n_neighbors=7, weights=uniform;, score=0.961 total time=  17.3s\n",
      "[CV 1/3] END algorithm=brute, n_neighbors=7, weights=distance;, score=0.960 total time=  15.7s\n",
      "[CV 2/3] END algorithm=brute, n_neighbors=7, weights=distance;, score=0.956 total time=  22.6s\n",
      "[CV 3/3] END algorithm=brute, n_neighbors=7, weights=distance;, score=0.963 total time=  18.8s\n",
      "[CV 1/3] END algorithm=brute, n_neighbors=10, weights=uniform;, score=0.954 total time=  19.5s\n",
      "[CV 2/3] END algorithm=brute, n_neighbors=10, weights=uniform;, score=0.953 total time=  17.1s\n",
      "[CV 3/3] END algorithm=brute, n_neighbors=10, weights=uniform;, score=0.957 total time=  17.2s\n",
      "[CV 1/3] END algorithm=brute, n_neighbors=10, weights=distance;, score=0.958 total time=  15.4s\n",
      "[CV 2/3] END algorithm=brute, n_neighbors=10, weights=distance;, score=0.956 total time=  16.9s\n",
      "[CV 3/3] END algorithm=brute, n_neighbors=10, weights=distance;, score=0.960 total time=  14.3s\n",
      "[CV 1/3] END algorithm=brute, n_neighbors=12, weights=uniform;, score=0.954 total time=  17.1s\n",
      "[CV 2/3] END algorithm=brute, n_neighbors=12, weights=uniform;, score=0.951 total time=  15.7s\n",
      "[CV 3/3] END algorithm=brute, n_neighbors=12, weights=uniform;, score=0.954 total time=  19.3s\n",
      "[CV 1/3] END algorithm=brute, n_neighbors=12, weights=distance;, score=0.956 total time=  17.0s\n",
      "[CV 2/3] END algorithm=brute, n_neighbors=12, weights=distance;, score=0.954 total time=  16.3s\n",
      "[CV 3/3] END algorithm=brute, n_neighbors=12, weights=distance;, score=0.959 total time=  15.1s\n",
      "[CV 1/3] END algorithm=brute, n_neighbors=15, weights=uniform;, score=0.950 total time=  20.0s\n",
      "[CV 2/3] END algorithm=brute, n_neighbors=15, weights=uniform;, score=0.948 total time=  17.3s\n",
      "[CV 3/3] END algorithm=brute, n_neighbors=15, weights=uniform;, score=0.952 total time=  18.1s\n",
      "[CV 1/3] END algorithm=brute, n_neighbors=15, weights=distance;, score=0.951 total time=  16.6s\n",
      "[CV 2/3] END algorithm=brute, n_neighbors=15, weights=distance;, score=0.950 total time=  16.2s\n",
      "[CV 3/3] END algorithm=brute, n_neighbors=15, weights=distance;, score=0.955 total time=  18.7s\n"
     ]
    }
   ],
   "source": [
    "# Instanciate Grid Search\n",
    "search = GridSearchCV(model, grid, \n",
    "                           scoring = 'accuracy',\n",
    "                           cv = 3 ,\n",
    "                      verbose = 3\n",
    "                          ) \n",
    "\n",
    "# Fit data to Grid Search\n",
    "search.fit(X_train,y_train);"
   ]
  },
  {
   "cell_type": "code",
   "execution_count": 20,
   "id": "09e7a613",
   "metadata": {},
   "outputs": [
    {
     "name": "stdout",
     "output_type": "stream",
     "text": [
      "the best score was:  0.9621428571428572\n"
     ]
    }
   ],
   "source": [
    "print('the best score was: ' , search.best_score_)"
   ]
  },
  {
   "cell_type": "code",
   "execution_count": 21,
   "id": "b349db7a",
   "metadata": {},
   "outputs": [
    {
     "name": "stdout",
     "output_type": "stream",
     "text": [
      "the best parameters:  {'algorithm': 'auto', 'n_neighbors': 5, 'weights': 'distance'}\n"
     ]
    }
   ],
   "source": [
    "print('the best parameters: ' , search.best_params_)"
   ]
  },
  {
   "cell_type": "code",
   "execution_count": 44,
   "id": "92133c21",
   "metadata": {},
   "outputs": [],
   "source": [
    "best_model = search.best_estimator_"
   ]
  },
  {
   "cell_type": "markdown",
   "id": "58fdb156",
   "metadata": {},
   "source": [
    "### split-test data score"
   ]
  },
  {
   "cell_type": "code",
   "execution_count": 45,
   "id": "b104ff25",
   "metadata": {},
   "outputs": [
    {
     "data": {
      "text/plain": [
       "0.9662698412698413"
      ]
     },
     "execution_count": 45,
     "metadata": {},
     "output_type": "execute_result"
    }
   ],
   "source": [
    "best_model.score(X_test , y_test)"
   ]
  },
  {
   "cell_type": "markdown",
   "id": "7f847ea0",
   "metadata": {},
   "source": [
    "# train tuned model with *all* the csv"
   ]
  },
  {
   "cell_type": "code",
   "execution_count": 49,
   "id": "71005297",
   "metadata": {},
   "outputs": [
    {
     "data": {
      "text/plain": [
       "KNeighborsClassifier(weights='distance')"
      ]
     },
     "execution_count": 49,
     "metadata": {},
     "output_type": "execute_result"
    }
   ],
   "source": [
    "from sklearn.neighbors import KNeighborsClassifier\n",
    "\n",
    "knc_tot = KNeighborsClassifier(n_neighbors=5 , weights='distance')\n",
    "knc_tot.fit(X , y)"
   ]
  },
  {
   "cell_type": "code",
   "execution_count": null,
   "id": "a207a3fb",
   "metadata": {},
   "outputs": [],
   "source": []
  },
  {
   "cell_type": "markdown",
   "id": "927c265d",
   "metadata": {},
   "source": [
    "# predict test for kaggle"
   ]
  },
  {
   "cell_type": "code",
   "execution_count": null,
   "id": "659766b9",
   "metadata": {},
   "outputs": [],
   "source": []
  },
  {
   "cell_type": "code",
   "execution_count": 47,
   "id": "2d9c13dd",
   "metadata": {},
   "outputs": [],
   "source": [
    "#traigo test data set para predecir\n",
    "\n",
    "df_test = pd.read_csv('test.csv')\n",
    "#defino una funcion para cada fila\n",
    "def get_m_test(row):\n",
    "    return row.values[:].reshape(28,28)\n",
    "\n",
    "df_test['m'] = df_test.apply(get_m_test, axis=1)\n",
    "\n",
    "test_digits = df_test.m.values "
   ]
  },
  {
   "cell_type": "code",
   "execution_count": 48,
   "id": "759b70c0",
   "metadata": {},
   "outputs": [
    {
     "data": {
      "text/plain": [
       "(28000, 784)"
      ]
     },
     "execution_count": 48,
     "metadata": {},
     "output_type": "execute_result"
    }
   ],
   "source": [
    "#features son todos los pixeles\n",
    "X_test_data = df_test.loc[: , 'pixel0':'pixel783']\n",
    "X_test_data = np.array(X_test_data)\n",
    "X_test_data.shape"
   ]
  },
  {
   "cell_type": "code",
   "execution_count": 50,
   "id": "bdf0853f",
   "metadata": {},
   "outputs": [],
   "source": [
    "#predigo con modelo entrenado total\n",
    "\n",
    "\n",
    "test_data_predictions = knc_tot.predict(X_test_data)"
   ]
  },
  {
   "cell_type": "code",
   "execution_count": 51,
   "id": "224f61c1",
   "metadata": {},
   "outputs": [
    {
     "data": {
      "text/plain": [
       "array([    0,     1,     2, ..., 27997, 27998, 27999])"
      ]
     },
     "execution_count": 51,
     "metadata": {},
     "output_type": "execute_result"
    }
   ],
   "source": [
    "df_test.index.values"
   ]
  },
  {
   "cell_type": "code",
   "execution_count": null,
   "id": "fd0dd945",
   "metadata": {},
   "outputs": [],
   "source": []
  },
  {
   "cell_type": "code",
   "execution_count": 53,
   "id": "fb048285",
   "metadata": {},
   "outputs": [
    {
     "data": {
      "text/html": [
       "<div>\n",
       "<style scoped>\n",
       "    .dataframe tbody tr th:only-of-type {\n",
       "        vertical-align: middle;\n",
       "    }\n",
       "\n",
       "    .dataframe tbody tr th {\n",
       "        vertical-align: top;\n",
       "    }\n",
       "\n",
       "    .dataframe thead th {\n",
       "        text-align: right;\n",
       "    }\n",
       "</style>\n",
       "<table border=\"1\" class=\"dataframe\">\n",
       "  <thead>\n",
       "    <tr style=\"text-align: right;\">\n",
       "      <th></th>\n",
       "      <th>Label</th>\n",
       "    </tr>\n",
       "    <tr>\n",
       "      <th>ImageID</th>\n",
       "      <th></th>\n",
       "    </tr>\n",
       "  </thead>\n",
       "  <tbody>\n",
       "    <tr>\n",
       "      <th>1</th>\n",
       "      <td>2</td>\n",
       "    </tr>\n",
       "    <tr>\n",
       "      <th>2</th>\n",
       "      <td>0</td>\n",
       "    </tr>\n",
       "    <tr>\n",
       "      <th>3</th>\n",
       "      <td>9</td>\n",
       "    </tr>\n",
       "    <tr>\n",
       "      <th>4</th>\n",
       "      <td>9</td>\n",
       "    </tr>\n",
       "    <tr>\n",
       "      <th>5</th>\n",
       "      <td>3</td>\n",
       "    </tr>\n",
       "    <tr>\n",
       "      <th>...</th>\n",
       "      <td>...</td>\n",
       "    </tr>\n",
       "    <tr>\n",
       "      <th>27996</th>\n",
       "      <td>9</td>\n",
       "    </tr>\n",
       "    <tr>\n",
       "      <th>27997</th>\n",
       "      <td>7</td>\n",
       "    </tr>\n",
       "    <tr>\n",
       "      <th>27998</th>\n",
       "      <td>3</td>\n",
       "    </tr>\n",
       "    <tr>\n",
       "      <th>27999</th>\n",
       "      <td>9</td>\n",
       "    </tr>\n",
       "    <tr>\n",
       "      <th>28000</th>\n",
       "      <td>2</td>\n",
       "    </tr>\n",
       "  </tbody>\n",
       "</table>\n",
       "<p>28000 rows × 1 columns</p>\n",
       "</div>"
      ],
      "text/plain": [
       "         Label\n",
       "ImageID       \n",
       "1            2\n",
       "2            0\n",
       "3            9\n",
       "4            9\n",
       "5            3\n",
       "...        ...\n",
       "27996        9\n",
       "27997        7\n",
       "27998        3\n",
       "27999        9\n",
       "28000        2\n",
       "\n",
       "[28000 rows x 1 columns]"
      ]
     },
     "execution_count": 53,
     "metadata": {},
     "output_type": "execute_result"
    }
   ],
   "source": [
    "df_submit = pd.DataFrame({'ImageID':df_test.index.values +1 ,'Label': test_data_predictions}).set_index('ImageID')\n",
    "\n",
    "df_submit"
   ]
  },
  {
   "cell_type": "code",
   "execution_count": 54,
   "id": "cef7fc71",
   "metadata": {},
   "outputs": [],
   "source": [
    "df_submit.to_csv('digit_recon_submission_file_2.csv', )"
   ]
  },
  {
   "cell_type": "code",
   "execution_count": null,
   "id": "02635845",
   "metadata": {},
   "outputs": [],
   "source": []
  }
 ],
 "metadata": {
  "kernelspec": {
   "display_name": "Python 3 (ipykernel)",
   "language": "python",
   "name": "python3"
  },
  "language_info": {
   "codemirror_mode": {
    "name": "ipython",
    "version": 3
   },
   "file_extension": ".py",
   "mimetype": "text/x-python",
   "name": "python",
   "nbconvert_exporter": "python",
   "pygments_lexer": "ipython3",
   "version": "3.8.12"
  },
  "toc": {
   "base_numbering": 1,
   "nav_menu": {},
   "number_sections": true,
   "sideBar": true,
   "skip_h1_title": false,
   "title_cell": "Table of Contents",
   "title_sidebar": "Contents",
   "toc_cell": false,
   "toc_position": {},
   "toc_section_display": true,
   "toc_window_display": false
  }
 },
 "nbformat": 4,
 "nbformat_minor": 5
}
